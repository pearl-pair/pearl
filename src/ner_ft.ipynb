{
 "cells": [
  {
   "cell_type": "code",
   "execution_count": null,
   "id": "a6cdc940-ae2d-4be3-8a68-c14478487597",
   "metadata": {},
   "outputs": [],
   "source": [
    "from flair.datasets import ColumnCorpus\n",
    "\n",
    "data_folder = 'data/synthetics/ner/'\n",
    "columns = {0: 'text', 1: 'ner'}\n",
    "corpus = ColumnCorpus(data_folder, columns,\n",
    "                      train_file='ner_train.txt',\n",
    "                      test_file='ner_test.txt',\n",
    "                      dev_file='ner_dev.txt')\n",
    "\n",
    "label_dict = corpus.make_label_dictionary(label_type='ner')"
   ]
  },
  {
   "cell_type": "code",
   "execution_count": null,
   "id": "56d1912d-b003-4f97-83f9-fda41de5dd83",
   "metadata": {},
   "outputs": [],
   "source": [
    "from flair.embeddings import WordEmbeddings, StackedEmbeddings, FlairEmbeddings\n",
    "tag_type = 'ner'\n",
    "tag_dictionary = corpus.make_tag_dictionary(tag_type=tag_type)\n",
    "embedding_types = [\n",
    "    WordEmbeddings('glove'),\n",
    "    FlairEmbeddings('news-forward-fast'),\n",
    "    FlairEmbeddings('news-backward-fast'),\n",
    "]\n",
    "\n",
    "embeddings = StackedEmbeddings(embeddings=embedding_types)\n",
    "\n",
    "from flair.models import SequenceTagger\n",
    "tagger = SequenceTagger(hidden_size=256,\n",
    "                        embeddings=embeddings,\n",
    "                        tag_dictionary=label_dict,\n",
    "                        tag_type=tag_type,\n",
    "                        tag_format='BIO'\n",
    "                        )"
   ]
  },
  {
   "cell_type": "code",
   "execution_count": null,
   "id": "a7304c3d-e984-4f09-9d77-f4e00a087931",
   "metadata": {},
   "outputs": [],
   "source": [
    "from flair.trainers import ModelTrainer\n",
    "\n",
    "trainer = ModelTrainer(tagger, corpus)\n",
    "trainer.fine_tune('./fine-tuned-model',\n",
    "                  learning_rate=5e-4,  \n",
    "                  mini_batch_size=256,\n",
    "                  max_epochs=40)"
   ]
  }
 ],
 "metadata": {
  "kernelspec": {
   "display_name": "Python 3 (ipykernel)",
   "language": "python",
   "name": "python3"
  },
  "language_info": {
   "codemirror_mode": {
    "name": "ipython",
    "version": 3
   },
   "file_extension": ".py",
   "mimetype": "text/x-python",
   "name": "python",
   "nbconvert_exporter": "python",
   "pygments_lexer": "ipython3",
   "version": "3.8.20"
  }
 },
 "nbformat": 4,
 "nbformat_minor": 5
}
